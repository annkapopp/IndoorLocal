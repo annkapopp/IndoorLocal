{
 "cells": [
  {
   "cell_type": "code",
   "execution_count": 1,
   "metadata": {},
   "outputs": [],
   "source": [
    "import numpy as np\n",
    "import pandas as pd\n",
    "import utils"
   ]
  },
  {
   "cell_type": "markdown",
   "metadata": {},
   "source": [
    "Accelerometer format: Time (s), X (m/s^2), Y (m/s^2), Z (m/s^2) \\\n",
    "Gyroscope format: Time (s), X (rad/s), Y (rad/s), Z (rad/s)"
   ]
  },
  {
   "cell_type": "code",
   "execution_count": 2,
   "metadata": {},
   "outputs": [
    {
     "data": {
      "text/html": [
       "<div>\n",
       "<style scoped>\n",
       "    .dataframe tbody tr th:only-of-type {\n",
       "        vertical-align: middle;\n",
       "    }\n",
       "\n",
       "    .dataframe tbody tr th {\n",
       "        vertical-align: top;\n",
       "    }\n",
       "\n",
       "    .dataframe thead th {\n",
       "        text-align: right;\n",
       "    }\n",
       "</style>\n",
       "<table border=\"1\" class=\"dataframe\">\n",
       "  <thead>\n",
       "    <tr style=\"text-align: right;\">\n",
       "      <th></th>\n",
       "      <th>Time (s)</th>\n",
       "      <th>X (rad/s)</th>\n",
       "      <th>Y (rad/s)</th>\n",
       "      <th>Z (rad/s)</th>\n",
       "    </tr>\n",
       "  </thead>\n",
       "  <tbody>\n",
       "    <tr>\n",
       "      <th>0</th>\n",
       "      <td>0.048244</td>\n",
       "      <td>-0.313532</td>\n",
       "      <td>0.400172</td>\n",
       "      <td>-0.457600</td>\n",
       "    </tr>\n",
       "    <tr>\n",
       "      <th>1</th>\n",
       "      <td>0.058258</td>\n",
       "      <td>-0.332125</td>\n",
       "      <td>0.443448</td>\n",
       "      <td>-0.440168</td>\n",
       "    </tr>\n",
       "    <tr>\n",
       "      <th>2</th>\n",
       "      <td>0.068272</td>\n",
       "      <td>-0.290050</td>\n",
       "      <td>0.380218</td>\n",
       "      <td>-0.405554</td>\n",
       "    </tr>\n",
       "    <tr>\n",
       "      <th>3</th>\n",
       "      <td>0.078286</td>\n",
       "      <td>-0.209888</td>\n",
       "      <td>0.236949</td>\n",
       "      <td>-0.377846</td>\n",
       "    </tr>\n",
       "    <tr>\n",
       "      <th>4</th>\n",
       "      <td>0.088299</td>\n",
       "      <td>-0.143626</td>\n",
       "      <td>0.097941</td>\n",
       "      <td>-0.383651</td>\n",
       "    </tr>\n",
       "    <tr>\n",
       "      <th>...</th>\n",
       "      <td>...</td>\n",
       "      <td>...</td>\n",
       "      <td>...</td>\n",
       "      <td>...</td>\n",
       "    </tr>\n",
       "    <tr>\n",
       "      <th>17894</th>\n",
       "      <td>179.244763</td>\n",
       "      <td>-0.234529</td>\n",
       "      <td>0.110128</td>\n",
       "      <td>0.026189</td>\n",
       "    </tr>\n",
       "    <tr>\n",
       "      <th>17895</th>\n",
       "      <td>179.254777</td>\n",
       "      <td>-0.359755</td>\n",
       "      <td>0.111809</td>\n",
       "      <td>0.003131</td>\n",
       "    </tr>\n",
       "    <tr>\n",
       "      <th>17896</th>\n",
       "      <td>179.264792</td>\n",
       "      <td>-0.268038</td>\n",
       "      <td>0.068637</td>\n",
       "      <td>-0.013516</td>\n",
       "    </tr>\n",
       "    <tr>\n",
       "      <th>17897</th>\n",
       "      <td>179.274806</td>\n",
       "      <td>-0.010159</td>\n",
       "      <td>-0.051150</td>\n",
       "      <td>-0.043892</td>\n",
       "    </tr>\n",
       "    <tr>\n",
       "      <th>17898</th>\n",
       "      <td>179.284821</td>\n",
       "      <td>0.212778</td>\n",
       "      <td>-0.130339</td>\n",
       "      <td>-0.061607</td>\n",
       "    </tr>\n",
       "  </tbody>\n",
       "</table>\n",
       "<p>17899 rows × 4 columns</p>\n",
       "</div>"
      ],
      "text/plain": [
       "         Time (s)  X (rad/s)  Y (rad/s)  Z (rad/s)\n",
       "0        0.048244  -0.313532   0.400172  -0.457600\n",
       "1        0.058258  -0.332125   0.443448  -0.440168\n",
       "2        0.068272  -0.290050   0.380218  -0.405554\n",
       "3        0.078286  -0.209888   0.236949  -0.377846\n",
       "4        0.088299  -0.143626   0.097941  -0.383651\n",
       "...           ...        ...        ...        ...\n",
       "17894  179.244763  -0.234529   0.110128   0.026189\n",
       "17895  179.254777  -0.359755   0.111809   0.003131\n",
       "17896  179.264792  -0.268038   0.068637  -0.013516\n",
       "17897  179.274806  -0.010159  -0.051150  -0.043892\n",
       "17898  179.284821   0.212778  -0.130339  -0.061607\n",
       "\n",
       "[17899 rows x 4 columns]"
      ]
     },
     "execution_count": 2,
     "metadata": {},
     "output_type": "execute_result"
    }
   ],
   "source": [
    "# load csv data as pandas dataframe\n",
    "\n",
    "acc_df = pd.read_csv('data/gebaeude64_1OG_csv/Accelerometer.csv', sep=',',header=0)\n",
    "gyro_df = pd.read_csv('data/gebaeude64_1OG_csv/Gyroscope.csv', sep=',',header=0)\n",
    "gyro_df"
   ]
  },
  {
   "cell_type": "code",
   "execution_count": 3,
   "metadata": {},
   "outputs": [
    {
     "data": {
      "text/plain": [
       "array([[ 4.82437917e-02,  5.82577917e-02,  6.82717917e-02, ...,\n",
       "         1.79264792e+02,  1.79274806e+02,  1.79284821e+02],\n",
       "       [-3.13532293e-01, -3.32124949e-01, -2.90049672e-01, ...,\n",
       "        -2.68038362e-01, -1.01593006e-02,  2.12778166e-01],\n",
       "       [ 4.00171638e-01,  4.43447739e-01,  3.80217910e-01, ...,\n",
       "         6.86370432e-02, -5.11502661e-02, -1.30338833e-01],\n",
       "       [-4.57599580e-01, -4.40168381e-01, -4.05553669e-01, ...,\n",
       "        -1.35164857e-02, -4.38915193e-02, -6.16073981e-02]])"
      ]
     },
     "execution_count": 3,
     "metadata": {},
     "output_type": "execute_result"
    }
   ],
   "source": [
    "# dataframe to numpy array\n",
    "\n",
    "acc = np.asarray([\n",
    "    acc_df['Time (s)'].to_numpy(dtype=float),\n",
    "    acc_df['X (m/s^2)'].to_numpy(dtype=float), \n",
    "    acc_df['Y (m/s^2)'].to_numpy(dtype=float), \n",
    "    acc_df['Z (m/s^2)'].to_numpy(dtype=float)\n",
    "])\n",
    "gyro = np.asarray([\n",
    "    gyro_df['Time (s)'].to_numpy(dtype=float),\n",
    "    gyro_df['X (rad/s)'].to_numpy(dtype=float), \n",
    "    gyro_df['Y (rad/s)'].to_numpy(dtype=float), \n",
    "    gyro_df['Z (rad/s)'].to_numpy(dtype=float)\n",
    "])\n",
    "\n",
    "gyro"
   ]
  },
  {
   "cell_type": "code",
   "execution_count": 4,
   "metadata": {},
   "outputs": [
    {
     "ename": "NameError",
     "evalue": "name 'f' is not defined",
     "output_type": "error",
     "traceback": [
      "\u001b[0;31m---------------------------------------------------------------------------\u001b[0m",
      "\u001b[0;31mNameError\u001b[0m                                 Traceback (most recent call last)",
      "\u001b[1;32m/Users/annka/Programming/Uni/MedDatSci/IndoorLocal/preprocessing.ipynb Cell 5'\u001b[0m in \u001b[0;36m<cell line: 1>\u001b[0;34m()\u001b[0m\n\u001b[0;32m----> <a href='vscode-notebook-cell:/Users/annka/Programming/Uni/MedDatSci/IndoorLocal/preprocessing.ipynb#ch0000004?line=0'>1</a>\u001b[0m utils\u001b[39m.\u001b[39;49mplot_acc(acc, \u001b[39m'\u001b[39;49m\u001b[39mall\u001b[39;49m\u001b[39m'\u001b[39;49m)\n\u001b[1;32m      <a href='vscode-notebook-cell:/Users/annka/Programming/Uni/MedDatSci/IndoorLocal/preprocessing.ipynb#ch0000004?line=1'>2</a>\u001b[0m utils\u001b[39m.\u001b[39mplot_gyro(gyro, \u001b[39m'\u001b[39m\u001b[39mall\u001b[39m\u001b[39m'\u001b[39m)\n",
      "File \u001b[0;32m~/Programming/Uni/MedDatSci/IndoorLocal/utils.py:6\u001b[0m, in \u001b[0;36mplot_acc\u001b[0;34m(data, type)\u001b[0m\n\u001b[1;32m      <a href='file:///Users/annka/Programming/Uni/MedDatSci/IndoorLocal/utils.py?line=3'>4</a>\u001b[0m \u001b[39mdef\u001b[39;00m \u001b[39mplot_acc\u001b[39m(data, \u001b[39mtype\u001b[39m):\n\u001b[1;32m      <a href='file:///Users/annka/Programming/Uni/MedDatSci/IndoorLocal/utils.py?line=4'>5</a>\u001b[0m     fig \u001b[39m=\u001b[39m plt\u001b[39m.\u001b[39mfigure()\n\u001b[0;32m----> <a href='file:///Users/annka/Programming/Uni/MedDatSci/IndoorLocal/utils.py?line=5'>6</a>\u001b[0m     f\u001b[39m.\u001b[39mset_figwidth(\u001b[39m20\u001b[39m)\n\u001b[1;32m      <a href='file:///Users/annka/Programming/Uni/MedDatSci/IndoorLocal/utils.py?line=6'>7</a>\u001b[0m     plt\u001b[39m.\u001b[39msuptitle(\u001b[39m\"\u001b[39m\u001b[39mAccelerometer\u001b[39m\u001b[39m\"\u001b[39m)\n\u001b[1;32m      <a href='file:///Users/annka/Programming/Uni/MedDatSci/IndoorLocal/utils.py?line=8'>9</a>\u001b[0m     \u001b[39mif\u001b[39;00m \u001b[39mtype\u001b[39m \u001b[39m==\u001b[39m \u001b[39m'\u001b[39m\u001b[39mall\u001b[39m\u001b[39m'\u001b[39m:\n\u001b[1;32m     <a href='file:///Users/annka/Programming/Uni/MedDatSci/IndoorLocal/utils.py?line=9'>10</a>\u001b[0m         \u001b[39m# X\u001b[39;00m\n",
      "\u001b[0;31mNameError\u001b[0m: name 'f' is not defined"
     ]
    },
    {
     "data": {
      "text/plain": [
       "<Figure size 432x288 with 0 Axes>"
      ]
     },
     "metadata": {},
     "output_type": "display_data"
    }
   ],
   "source": [
    "utils.plot_acc(acc, 'all')\n",
    "utils.plot_gyro(gyro, 'all')"
   ]
  },
  {
   "cell_type": "code",
   "execution_count": null,
   "metadata": {},
   "outputs": [
    {
     "data": {
      "image/png": "[encoded data removed]",
      "text/plain": [
       "<Figure size 432x288 with 1 Axes>"
      ]
     },
     "metadata": {
      "needs_background": "light"
     },
     "output_type": "display_data"
    },
    {
     "data": {
      "image/png": "[encoded data removed]",
      "text/plain": [
       "<Figure size 432x288 with 1 Axes>"
      ]
     },
     "metadata": {
      "needs_background": "light"
     },
     "output_type": "display_data"
    }
   ],
   "source": [
    "# norm of accelerometer & gyroscope\n",
    "\n",
    "acc_norm = np.linalg.norm(acc[1::], axis=0)\n",
    "acc_norm = np.array([acc[0], acc_norm])\n",
    "gyro_norm = np.linalg.norm(gyro[1::], axis=0)\n",
    "gyro_norm = np.array([gyro[0], gyro_norm])\n",
    "\n",
    "utils.plot_acc(acc_norm, 'norm')\n",
    "utils.plot_gyro(gyro_norm, 'norm')\n"
   ]
  },
  {
   "cell_type": "code",
   "execution_count": null,
   "metadata": {},
   "outputs": [],
   "source": []
  }
 ],
 "metadata": {
  "interpreter": {
   "hash": "7e85ec9bf098c5427e45e2f632dcd4eeff803b007e1abd287d600879388709c1"
  },
  "kernelspec": {
   "display_name": "Python 3.8.10 64-bit",
   "language": "python",
   "name": "python3"
  },
  "language_info": {
   "codemirror_mode": {
    "name": "ipython",
    "version": 3
   },
   "file_extension": ".py",
   "mimetype": "text/x-python",
   "name": "python",
   "nbconvert_exporter": "python",
   "pygments_lexer": "ipython3",
   "version": "3.8.10"
  },
  "orig_nbformat": 4
 },
 "nbformat": 4,
 "nbformat_minor": 2
}
